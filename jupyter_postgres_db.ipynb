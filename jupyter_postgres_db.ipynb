# Jupyter with PostgreSQL
## Libararies and Settings
# Libraries
import os
import fnmatch
import tempfile
import psycopg2
import pandas as pd
from sqlalchemy import create_engine

os.environ['MPLCONFIGDIR'] = "/home/jovyan"
import matplotlib.pyplot as plt

# Settings
import warnings
warnings.filterwarnings("ignore")

# Current working directory
print(os.getcwd())

# Content of current working directory
fnmatch.filter(os.listdir('.'), '*.csv')
## Create database connection
conn = psycopg2.connect("host=db dbname=postgres user=admin password=secret")
## Read data
df = pd.read_csv('apartments_data_prepared.csv', sep=',')
df.head(5)
## Write data to database
engine = create_engine('postgresql://admin:secret@db:5432/postgres')
df.to_sql('apartment_table', engine, if_exists='replace')
## Make SQL query
df_sub = pd.read_sql_query('''SELECT
                             address_raw,
                             rooms,
                             area,
                             price
                             FROM apartment_table''', 
                          con=engine)
df_sub.head()
## Plot apartment prices
# Plot Histogram
fig = plt.figure( figsize=(7,4))
plt.xticks(fontsize=14, rotation=0)
plt.yticks(fontsize=14, rotation=0)
n, bins, patches = plt.hist(x=df['price'], 
                            bins=20, 
                            color='#5DADE2',
                            alpha=1.00, 
                            rwidth=0.95
                   )
plt.grid(True)
plt.ticklabel_format(style='plain')
plt.grid(axis='y', alpha=0.75)

# Set labels
plt.xlabel('price', fontsize=10, labelpad=10)
plt.ylabel('Frequency', fontsize=10, labelpad=10)
plt.title('Histogram of apartment prices', fontsize=12, pad=10)

# Set fontsize of tick labels
plt.xticks(fontsize = 10)
plt.yticks(fontsize = 10)

plt.show()
### Jupyter notebook --footer info-- (please always provide this at the end of each notebook)
import os
import platform
import socket
from platform import python_version
from datetime import datetime

print('-----------------------------------')
print(os.name.upper())
print(platform.system(), '|', platform.release())
print('Datetime:', datetime.now().strftime("%Y-%m-%d %H:%M:%S"))
print('Python Version:', python_version())
print('-----------------------------------')
