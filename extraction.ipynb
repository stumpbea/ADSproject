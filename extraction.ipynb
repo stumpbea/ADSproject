### NLP Extractions Prerequisits
pip install spacy
python -m spacy download en_core_web_lg
import spacy

nlp = spacy.load("en_core_web_lg")

review = nlp("Food here is really good, as are the views of the lake and the ambience. Our waiter gave us good service but it wasn’t always easy to get their attention. Nevertheless I throughly enjoyed our evening here. N.B. if you are driving, it may take you a while to find a parking space (as it gets really busy on weekends) and so would advise taking a taxi or travelling by public transport instead.")
### POS, Dependencies, NER
for token in review:
    print(token)
    
for sentence in review.sents:
    print(sentence)
    sentence_document = nlp(sentence.text)
    for token in sentence_document:
        print(token.text, " POS: ", token.pos_, " DEP: ", token.dep_, " ENT: ", token.ent_type_)
### Topic Detection
import spacy.displacy as displacy
displacy.render(review)
topics = {}

for sentence in review.sents:
    sentence_document = nlp(sentence.text)
    for token in sentence_document:
        if token.pos_ == "NOUN" and (token.dep_ == "nsubj" or token.dep_ == "pobj"):
            topics[token] = sentence_document.text

print(topics)
### Sentiment Analysis
from textblob import TextBlob

sentiment = TextBlob("The food was awful").sentiment

print(sentiment)

for topic, sentence in topics.items():
    sentiment = TextBlob(sentence).sentiment
    print(topic, ": ", sentiment.polarity)
### Question Answering

Generate Question / Answers from an existing Text
text = nlp("Keanu bought a house in Locarno. Henry didn't like that.")
question_words = {
    "PERSON": "who",
    "GPE": "where"
}

for sentence in text.sents:
    sentence_document = nlp(sentence.text)
    for token in sentence_document:
        if token.ent_type_ is not "":
            question_word = question_words[token.ent_type_]
            if question_word is not None:
                question = sentence_document.text.replace(token.text, question_word)
                answer = token.text
                print(token.text, ": ", token.ent_type_)
                print(question, "? ", answer)
